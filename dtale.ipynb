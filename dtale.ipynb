{
 "cells": [
  {
   "cell_type": "markdown",
   "metadata": {},
   "source": [
    "# D-Tale"
   ]
  },
  {
   "cell_type": "markdown",
   "metadata": {},
   "source": [
    "D-Tale is the combination of a Flask back-end and a React front-end to bring you an easy way to view & analyze Pandas data structures. It integrates seamlessly with ipython notebooks & python/ipython terminals. Currently this tool supports such Pandas objects as DataFrame, Series, MultiIndex, DatetimeIndex & RangeIndex."
   ]
  },
  {
   "cell_type": "code",
   "execution_count": 1,
   "metadata": {},
   "outputs": [
    {
     "name": "stdout",
     "output_type": "stream",
     "text": [
      "Collecting dtale\n",
      "  Downloading dtale-1.44.1-py2.py3-none-any.whl (14.4 MB)\n",
      "Collecting squarify\n",
      "  Downloading squarify-0.4.3-py3-none-any.whl (4.3 kB)\n",
      "Collecting lz4; python_version > \"3.0\"\n",
      "  Downloading lz4-3.1.3-cp37-cp37m-win_amd64.whl (192 kB)\n",
      "Requirement already satisfied, skipping upgrade: scipy in c:\\users\\dell\\appdata\\roaming\\python\\python37\\site-packages (from dtale) (1.5.4)\n",
      "Requirement already satisfied, skipping upgrade: requests in c:\\users\\dell\\appdata\\roaming\\python\\python37\\site-packages (from dtale) (2.25.1)\n",
      "Collecting kaleido; python_version > \"3.6\"\n",
      "  Downloading kaleido-0.2.1-py2.py3-none-win_amd64.whl (65.9 MB)\n",
      "Collecting strsimpy\n",
      "  Downloading strsimpy-0.2.0-py3-none-any.whl (45 kB)\n",
      "Requirement already satisfied, skipping upgrade: Flask>=1.0 in c:\\programdata\\anaconda3\\lib\\site-packages (from dtale) (1.1.1)\n",
      "Collecting dash>=1.5.0\n",
      "  Downloading dash-1.20.0.tar.gz (77 kB)\n",
      "Requirement already satisfied, skipping upgrade: et-xmlfile; python_version >= \"3.6\" in c:\\programdata\\anaconda3\\lib\\site-packages (from dtale) (1.0.1)\n",
      "Requirement already satisfied, skipping upgrade: future>=0.14.0 in c:\\programdata\\anaconda3\\lib\\site-packages (from dtale) (0.18.2)\n",
      "Requirement already satisfied, skipping upgrade: openpyxl; python_version >= \"3.0\" in c:\\programdata\\anaconda3\\lib\\site-packages (from dtale) (3.0.3)\n",
      "Collecting dash-colorscales\n",
      "  Downloading dash_colorscales-0.0.4.tar.gz (62 kB)\n",
      "Requirement already satisfied, skipping upgrade: plotly>=4.9.0 in c:\\users\\dell\\appdata\\roaming\\python\\python37\\site-packages (from dtale) (4.14.3)\n",
      "Collecting flask-ngrok; python_version > \"3.0\"\n",
      "  Downloading flask_ngrok-0.0.25-py3-none-any.whl (3.1 kB)\n",
      "Requirement already satisfied, skipping upgrade: xlrd in c:\\programdata\\anaconda3\\lib\\site-packages (from dtale) (1.2.0)\n",
      "Requirement already satisfied, skipping upgrade: scikit-learn in c:\\users\\dell\\appdata\\roaming\\python\\python37\\site-packages (from dtale) (0.23.1)\n",
      "Requirement already satisfied, skipping upgrade: missingno in c:\\users\\dell\\appdata\\roaming\\python\\python37\\site-packages (from dtale) (0.4.2)\n",
      "Requirement already satisfied, skipping upgrade: statsmodels; python_version > \"3.0\" in c:\\programdata\\anaconda3\\lib\\site-packages (from dtale) (0.11.0)\n",
      "Collecting ppscore; python_version >= \"3.6\"\n",
      "  Downloading ppscore-1.2.0.tar.gz (47 kB)\n",
      "Requirement already satisfied, skipping upgrade: networkx; python_version >= \"3.0\" in c:\\programdata\\anaconda3\\lib\\site-packages (from dtale) (2.4)\n",
      "Requirement already satisfied, skipping upgrade: six in c:\\users\\dell\\appdata\\roaming\\python\\python37\\site-packages (from dtale) (1.15.0)\n",
      "Requirement already satisfied, skipping upgrade: xarray; python_version >= \"3.0\" in c:\\programdata\\anaconda3\\lib\\site-packages (from dtale) (0.17.0)\n",
      "Requirement already satisfied, skipping upgrade: seaborn; python_version >= \"3.6\" in c:\\users\\dell\\appdata\\roaming\\python\\python37\\site-packages (from dtale) (0.11.1)\n",
      "Requirement already satisfied, skipping upgrade: itsdangerous in c:\\programdata\\anaconda3\\lib\\site-packages (from dtale) (1.1.0)\n",
      "Requirement already satisfied, skipping upgrade: pandas in c:\\users\\dell\\appdata\\roaming\\python\\python37\\site-packages (from dtale) (1.0.5)\n",
      "Collecting dash-bootstrap-components; python_version > \"3.0\"\n",
      "  Downloading dash_bootstrap_components-0.12.0-py3-none-any.whl (191 kB)\n",
      "Collecting dash-daq\n",
      "  Downloading dash_daq-0.5.0.tar.gz (642 kB)\n",
      "Collecting Flask-Compress\n",
      "  Downloading Flask_Compress-1.9.0-py3-none-any.whl (7.3 kB)\n",
      "Requirement already satisfied, skipping upgrade: numpy>=1.14.5 in c:\\users\\dell\\appdata\\roaming\\python\\python37\\site-packages (from scipy->dtale) (1.19.1)\n",
      "Requirement already satisfied, skipping upgrade: urllib3<1.27,>=1.21.1 in c:\\programdata\\anaconda3\\lib\\site-packages (from requests->dtale) (1.25.8)\n",
      "Requirement already satisfied, skipping upgrade: chardet<5,>=3.0.2 in c:\\programdata\\anaconda3\\lib\\site-packages (from requests->dtale) (3.0.4)\n",
      "Requirement already satisfied, skipping upgrade: idna<3,>=2.5 in c:\\programdata\\anaconda3\\lib\\site-packages (from requests->dtale) (2.8)\n",
      "Requirement already satisfied, skipping upgrade: certifi>=2017.4.17 in c:\\programdata\\anaconda3\\lib\\site-packages (from requests->dtale) (2019.11.28)\n",
      "Requirement already satisfied, skipping upgrade: Werkzeug>=0.15 in c:\\programdata\\anaconda3\\lib\\site-packages (from Flask>=1.0->dtale) (1.0.0)\n",
      "Requirement already satisfied, skipping upgrade: Jinja2>=2.10.1 in c:\\programdata\\anaconda3\\lib\\site-packages (from Flask>=1.0->dtale) (2.11.1)\n",
      "Requirement already satisfied, skipping upgrade: click>=5.1 in c:\\users\\dell\\appdata\\roaming\\python\\python37\\site-packages (from Flask>=1.0->dtale) (7.1.2)\n",
      "Collecting dash_renderer==1.9.1\n",
      "  Downloading dash_renderer-1.9.1.tar.gz (1.0 MB)\n",
      "Collecting dash-core-components==1.16.0\n",
      "  Downloading dash_core_components-1.16.0.tar.gz (3.5 MB)\n",
      "Collecting dash-html-components==1.1.3\n",
      "  Downloading dash_html_components-1.1.3.tar.gz (82 kB)\n",
      "Collecting dash-table==4.11.3\n",
      "  Downloading dash_table-4.11.3.tar.gz (1.8 MB)\n",
      "Requirement already satisfied, skipping upgrade: jdcal in c:\\programdata\\anaconda3\\lib\\site-packages (from openpyxl; python_version >= \"3.0\"->dtale) (1.4.1)\n",
      "Requirement already satisfied, skipping upgrade: retrying>=1.3.3 in c:\\users\\dell\\appdata\\roaming\\python\\python37\\site-packages (from plotly>=4.9.0->dtale) (1.3.3)\n",
      "Requirement already satisfied, skipping upgrade: threadpoolctl>=2.0.0 in c:\\programdata\\anaconda3\\lib\\site-packages (from scikit-learn->dtale) (2.1.0)\n",
      "Requirement already satisfied, skipping upgrade: joblib>=0.11 in c:\\users\\dell\\appdata\\roaming\\python\\python37\\site-packages (from scikit-learn->dtale) (1.0.0)\n",
      "Requirement already satisfied, skipping upgrade: matplotlib in c:\\users\\dell\\appdata\\roaming\\python\\python37\\site-packages (from missingno->dtale) (3.3.4)\n",
      "Requirement already satisfied, skipping upgrade: patsy>=0.5 in c:\\programdata\\anaconda3\\lib\\site-packages (from statsmodels; python_version > \"3.0\"->dtale) (0.5.1)\n",
      "Requirement already satisfied, skipping upgrade: decorator>=4.3.0 in c:\\programdata\\anaconda3\\lib\\site-packages (from networkx; python_version >= \"3.0\"->dtale) (4.4.1)\n",
      "Requirement already satisfied, skipping upgrade: setuptools>=40.4 in c:\\programdata\\anaconda3\\lib\\site-packages (from xarray; python_version >= \"3.0\"->dtale) (45.2.0.post20200210)\n",
      "Requirement already satisfied, skipping upgrade: python-dateutil>=2.6.1 in c:\\programdata\\anaconda3\\lib\\site-packages (from pandas->dtale) (2.8.1)\n",
      "Requirement already satisfied, skipping upgrade: pytz>=2017.2 in c:\\programdata\\anaconda3\\lib\\site-packages (from pandas->dtale) (2019.3)\n",
      "Collecting brotli\n",
      "  Downloading Brotli-1.0.9-cp37-cp37m-win_amd64.whl (365 kB)\n",
      "Requirement already satisfied, skipping upgrade: MarkupSafe>=0.23 in c:\\programdata\\anaconda3\\lib\\site-packages (from Jinja2>=2.10.1->Flask>=1.0->dtale) (1.1.1)\n",
      "Requirement already satisfied, skipping upgrade: cycler>=0.10 in c:\\programdata\\anaconda3\\lib\\site-packages (from matplotlib->missingno->dtale) (0.10.0)\n",
      "Requirement already satisfied, skipping upgrade: kiwisolver>=1.0.1 in c:\\programdata\\anaconda3\\lib\\site-packages (from matplotlib->missingno->dtale) (1.1.0)\n",
      "Requirement already satisfied, skipping upgrade: pillow>=6.2.0 in c:\\users\\dell\\appdata\\roaming\\python\\python37\\site-packages (from matplotlib->missingno->dtale) (8.1.0)\n",
      "Requirement already satisfied, skipping upgrade: pyparsing!=2.0.4,!=2.1.2,!=2.1.6,>=2.0.3 in c:\\programdata\\anaconda3\\lib\\site-packages (from matplotlib->missingno->dtale) (2.4.6)\n",
      "Building wheels for collected packages: dash, dash-colorscales, ppscore, dash-daq, dash-renderer, dash-core-components, dash-html-components, dash-table\n",
      "  Building wheel for dash (setup.py): started\n",
      "  Building wheel for dash (setup.py): finished with status 'done'\n",
      "  Created wheel for dash: filename=dash-1.20.0-py3-none-any.whl size=85831 sha256=e74551b0d4a5342f23b31c4c88b33bd789c36c923f32d293d05e7b633fa73d7c\n",
      "  Stored in directory: c:\\users\\dell\\appdata\\local\\pip\\cache\\wheels\\4f\\c3\\6a\\a7cb9cedfdf93e0f0e8db0817ff2646d319afa9e4ca543ef9c\n",
      "  Building wheel for dash-colorscales (setup.py): started\n",
      "  Building wheel for dash-colorscales (setup.py): finished with status 'done'\n",
      "  Created wheel for dash-colorscales: filename=dash_colorscales-0.0.4-py3-none-any.whl size=62598 sha256=06e1120b5f54818ea8e61ecc23977df0f3b3fd1915bc0a52bd182b537b12cbfb\n",
      "  Stored in directory: c:\\users\\dell\\appdata\\local\\pip\\cache\\wheels\\2f\\22\\7e\\183ba2af565e3eb955021fbb4fe8fe4a6b1ed8ae3e5c03236a\n",
      "  Building wheel for ppscore (setup.py): started\n",
      "  Building wheel for ppscore (setup.py): finished with status 'done'\n",
      "  Created wheel for ppscore: filename=ppscore-1.2.0-py2.py3-none-any.whl size=13050 sha256=dcd5e80dad36605487ff732a1558117c7be56f4509c837059092161f9c215916\n",
      "  Stored in directory: c:\\users\\dell\\appdata\\local\\pip\\cache\\wheels\\d2\\3c\\58\\2ff786414b21713edc6f4fdb54fdee89ac37bca5edd1f60634\n",
      "  Building wheel for dash-daq (setup.py): started\n",
      "  Building wheel for dash-daq (setup.py): finished with status 'done'\n",
      "  Created wheel for dash-daq: filename=dash_daq-0.5.0-py3-none-any.whl size=669701 sha256=f9b5f8182b499936cd6910959b956565c0542406631408e1b59868f6f75e05e6\n",
      "  Stored in directory: c:\\users\\dell\\appdata\\local\\pip\\cache\\wheels\\fe\\54\\53\\a8d448db5592874db4313240571ca2c069e55f6a6b29bf5847\n",
      "  Building wheel for dash-renderer (setup.py): started\n",
      "  Building wheel for dash-renderer (setup.py): finished with status 'done'\n",
      "  Created wheel for dash-renderer: filename=dash_renderer-1.9.1-py3-none-any.whl size=1014878 sha256=73f90349e8f785c6a0d4c7dfdfff5d6c17173d2f1eb18eeb8a5ec7887fa1c675\n",
      "  Stored in directory: c:\\users\\dell\\appdata\\local\\pip\\cache\\wheels\\1a\\2f\\c0\\783c571f9861e5c716b56638926b03fb80bc58991e5a54947d\n",
      "  Building wheel for dash-core-components (setup.py): started\n",
      "  Building wheel for dash-core-components (setup.py): finished with status 'done'\n",
      "  Created wheel for dash-core-components: filename=dash_core_components-1.16.0-py3-none-any.whl size=3540991 sha256=b13d5ffdf37cc80dde22b257fe788fd2c5ccaee9b32c99497b1ae21878099f96\n",
      "  Stored in directory: c:\\users\\dell\\appdata\\local\\pip\\cache\\wheels\\6a\\50\\7e\\c440176e48ba46baa157b0f10365f6871acd133460b4e0abe4\n",
      "  Building wheel for dash-html-components (setup.py): started\n",
      "  Building wheel for dash-html-components (setup.py): finished with status 'done'\n",
      "  Created wheel for dash-html-components: filename=dash_html_components-1.1.3-py3-none-any.whl size=319471 sha256=9532ea3b52d63d87af4e5f5660b241c24000cb44238567d2520e4f270dffcd21\n",
      "  Stored in directory: c:\\users\\dell\\appdata\\local\\pip\\cache\\wheels\\7d\\75\\be\\b836bd1c1f92c4823fef293f82375ca448c1fc627ce50acff0\n",
      "  Building wheel for dash-table (setup.py): started\n",
      "  Building wheel for dash-table (setup.py): finished with status 'done'\n",
      "  Created wheel for dash-table: filename=dash_table-4.11.3-py3-none-any.whl size=1827618 sha256=6cc61f3fe63157dedd07f38251c2ca11a2cad7a8ccc94e5c0ca72508a1236fbb\n",
      "  Stored in directory: c:\\users\\dell\\appdata\\local\\pip\\cache\\wheels\\99\\5e\\cb\\e1918e34d079454bad0504e73a9195d9da8cd46605560e6864\n",
      "Successfully built dash dash-colorscales ppscore dash-daq dash-renderer dash-core-components dash-html-components dash-table\n",
      "Installing collected packages: squarify, lz4, kaleido, strsimpy, brotli, Flask-Compress, dash-renderer, dash-core-components, dash-html-components, dash-table, dash, dash-colorscales, flask-ngrok, ppscore, dash-bootstrap-components, dash-daq, dtale\n",
      "Successfully installed Flask-Compress-1.9.0 brotli-1.0.9 dash-1.20.0 dash-bootstrap-components-0.12.0 dash-colorscales-0.0.4 dash-core-components-1.16.0 dash-daq-0.5.0 dash-html-components-1.1.3 dash-renderer-1.9.1 dash-table-4.11.3 dtale-1.44.1 flask-ngrok-0.0.25 kaleido-0.2.1 lz4-3.1.3 ppscore-1.2.0 squarify-0.4.3 strsimpy-0.2.0\n"
     ]
    }
   ],
   "source": [
    "! pip install -U dtale"
   ]
  },
  {
   "cell_type": "markdown",
   "metadata": {},
   "source": [
    "## Import Dataset"
   ]
  },
  {
   "cell_type": "code",
   "execution_count": 2,
   "metadata": {},
   "outputs": [],
   "source": [
    "import pandas as pd\n",
    "\n",
    "# Penguins\n",
    "df = pd.read_csv('demo1.csv')"
   ]
  },
  {
   "cell_type": "code",
   "execution_count": 3,
   "metadata": {},
   "outputs": [
    {
     "data": {
      "text/html": [
       "<div>\n",
       "<style scoped>\n",
       "    .dataframe tbody tr th:only-of-type {\n",
       "        vertical-align: middle;\n",
       "    }\n",
       "\n",
       "    .dataframe tbody tr th {\n",
       "        vertical-align: top;\n",
       "    }\n",
       "\n",
       "    .dataframe thead th {\n",
       "        text-align: right;\n",
       "    }\n",
       "</style>\n",
       "<table border=\"1\" class=\"dataframe\">\n",
       "  <thead>\n",
       "    <tr style=\"text-align: right;\">\n",
       "      <th></th>\n",
       "      <th>GREScore</th>\n",
       "      <th>CGPA</th>\n",
       "      <th>predict</th>\n",
       "    </tr>\n",
       "  </thead>\n",
       "  <tbody>\n",
       "    <tr>\n",
       "      <th>0</th>\n",
       "      <td>337</td>\n",
       "      <td>9.65</td>\n",
       "      <td>0.92</td>\n",
       "    </tr>\n",
       "    <tr>\n",
       "      <th>1</th>\n",
       "      <td>324</td>\n",
       "      <td>8.87</td>\n",
       "      <td>0.76</td>\n",
       "    </tr>\n",
       "    <tr>\n",
       "      <th>2</th>\n",
       "      <td>316</td>\n",
       "      <td>8.00</td>\n",
       "      <td>0.72</td>\n",
       "    </tr>\n",
       "    <tr>\n",
       "      <th>3</th>\n",
       "      <td>322</td>\n",
       "      <td>8.67</td>\n",
       "      <td>0.80</td>\n",
       "    </tr>\n",
       "    <tr>\n",
       "      <th>4</th>\n",
       "      <td>314</td>\n",
       "      <td>8.21</td>\n",
       "      <td>0.65</td>\n",
       "    </tr>\n",
       "  </tbody>\n",
       "</table>\n",
       "</div>"
      ],
      "text/plain": [
       "   GREScore  CGPA  predict\n",
       "0       337  9.65     0.92\n",
       "1       324  8.87     0.76\n",
       "2       316  8.00     0.72\n",
       "3       322  8.67     0.80\n",
       "4       314  8.21     0.65"
      ]
     },
     "execution_count": 3,
     "metadata": {},
     "output_type": "execute_result"
    }
   ],
   "source": [
    "df.head()"
   ]
  },
  {
   "cell_type": "markdown",
   "metadata": {},
   "source": [
    "## Using dtale"
   ]
  },
  {
   "cell_type": "code",
   "execution_count": 5,
   "metadata": {
    "scrolled": false
   },
   "outputs": [
    {
     "data": {
      "text/html": [
       "\n",
       "        <iframe\n",
       "            width=\"100%\"\n",
       "            height=\"475\"\n",
       "            src=\"http://a5b905fb6279.ngrok.io/dtale/iframe/2\"\n",
       "            frameborder=\"0\"\n",
       "            allowfullscreen\n",
       "        ></iframe>\n",
       "        "
      ],
      "text/plain": [
       "<IPython.lib.display.IFrame at 0x1552c2afa88>"
      ]
     },
     "metadata": {},
     "output_type": "display_data"
    },
    {
     "data": {
      "text/plain": []
     },
     "execution_count": 5,
     "metadata": {},
     "output_type": "execute_result"
    }
   ],
   "source": [
    "import dtale\n",
    "import dtale.app as dtale_app\n",
    "\n",
    "dtale_app.USE_NGROK = True\n",
    "dtale.show(df)"
   ]
  }
 ],
 "metadata": {
  "kernelspec": {
   "display_name": "Python 3",
   "language": "python",
   "name": "python3"
  },
  "language_info": {
   "codemirror_mode": {
    "name": "ipython",
    "version": 3
   },
   "file_extension": ".py",
   "mimetype": "text/x-python",
   "name": "python",
   "nbconvert_exporter": "python",
   "pygments_lexer": "ipython3",
   "version": "3.7.6"
  }
 },
 "nbformat": 4,
 "nbformat_minor": 4
}
